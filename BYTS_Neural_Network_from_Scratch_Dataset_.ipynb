{
  "nbformat": 4,
  "nbformat_minor": 0,
  "metadata": {
    "colab": {
      "provenance": [],
      "authorship_tag": "ABX9TyPpjd5myemLQBMwFklM+Yzn",
      "include_colab_link": true
    },
    "kernelspec": {
      "name": "python3",
      "display_name": "Python 3"
    },
    "language_info": {
      "name": "python"
    }
  },
  "cells": [
    {
      "cell_type": "markdown",
      "metadata": {
        "id": "view-in-github",
        "colab_type": "text"
      },
      "source": [
        "<a href=\"https://colab.research.google.com/github/DivyaDharshini2293/Deep-Learning/blob/main/BYTS_Neural_Network_from_Scratch_Dataset_.ipynb\" target=\"_parent\"><img src=\"https://colab.research.google.com/assets/colab-badge.svg\" alt=\"Open In Colab\"/></a>"
      ]
    },
    {
      "cell_type": "code",
      "source": [
        "import numpy as np\n",
        "import pandas as pd"
      ],
      "metadata": {
        "id": "jnwYTSkIb56f"
      },
      "execution_count": 13,
      "outputs": []
    },
    {
      "cell_type": "code",
      "source": [
        "from sklearn import datasets\n",
        "from sklearn.model_selection import train_test_split\n",
        "from sklearn.preprocessing import OneHotEncoder\n",
        "\n",
        "# Load the Iris dataset from Scikit-learn\n",
        "iris = datasets.load_iris()\n",
        "X = iris.data  # Features (sepal length, sepal width, petal length, petal width)\n",
        "y = iris.target.reshape(-1, 1)  # Target labels (0:setosa, 1:versicolor, 2:virginica)\n",
        "\n",
        "# One-hot encode the target labels\n",
        "encoder = OneHotEncoder(sparse=False)\n",
        "y = encoder.fit_transform(y)9\n"
      ],
      "metadata": {
        "colab": {
          "base_uri": "https://localhost:8080/"
        },
        "id": "Plx5qHo5cU-3",
        "outputId": "d8f3c29a-0f15-4d0d-a100-e1bdecf42bce"
      },
      "execution_count": 14,
      "outputs": [
        {
          "output_type": "stream",
          "name": "stderr",
          "text": [
            "/usr/local/lib/python3.10/dist-packages/sklearn/preprocessing/_encoders.py:868: FutureWarning: `sparse` was renamed to `sparse_output` in version 1.2 and will be removed in 1.4. `sparse_output` is ignored unless you leave `sparse` to its default value.\n",
            "  warnings.warn(\n"
          ]
        }
      ]
    },
    {
      "cell_type": "code",
      "source": [
        "import numpy as np\n",
        "\n",
        "class NeuralNetwork:\n",
        "    def __init__(self, input_size, hidden_size, output_size):\n",
        "        # Initialize weights and biases for hidden and output layers\n",
        "        self.weights_input_hidden = np.random.randn(input_size, hidden_size)\n",
        "        self.bias_input_hidden = np.zeros((1, hidden_size))\n",
        "        self.weights_hidden_output = np.random.randn(hidden_size, output_size)\n",
        "        self.bias_hidden_output = np.zeros((1, output_size))\n",
        "\n",
        "    def sigmoid(self, x):\n",
        "        return 1 / (1 + np.exp(-x))\n",
        "\n",
        "    def sigmoid_derivative(self, x):\n",
        "        return x * (1 - x)\n",
        "\n",
        "    def forward(self, X):\n",
        "        # Forward propagation through the network\n",
        "        self.hidden_input = np.dot(X, self.weights_input_hidden) + self.bias_input_hidden\n",
        "        self.hidden_output = self.sigmoid(self.hidden_input)\n",
        "        self.final_input = np.dot(self.hidden_output, self.weights_hidden_output) + self.bias_hidden_output\n",
        "        self.predicted_output = self.sigmoid(self.final_input)\n",
        "        return self.predicted_output\n",
        "\n",
        "    def backward(self, X, y, output, learning_rate):\n",
        "        # Backpropagation to update weights and biases\n",
        "        error = y - output\n",
        "        output_delta = error * self.sigmoid_derivative(output)\n",
        "\n",
        "        error_hidden = output_delta.dot(self.weights_hidden_output.T)\n",
        "        hidden_delta = error_hidden * self.sigmoid_derivative(self.hidden_output)\n",
        "\n",
        "        self.weights_hidden_output += self.hidden_output.T.dot(output_delta) * learning_rate\n",
        "        self.bias_hidden_output += np.sum(output_delta, axis=0, keepdims=True) * learning_rate\n",
        "        self.weights_input_hidden += X.T.dot(hidden_delta) * learning_rate\n",
        "        self.bias_input_hidden += np.sum(hidden_delta, axis=0, keepdims=True) * learning_rate\n",
        "\n",
        "    def train(self, X, y, epochs, learning_rate):\n",
        "        for epoch in range(epochs):\n",
        "            output = self.forward(X)\n",
        "            self.backward(X, y, output, learning_rate)\n",
        "            if epoch % 100 == 0:\n",
        "                loss = np.mean(np.square(y - output))\n",
        "                print(f\"Epoch {epoch}: Loss = {loss:.4f}\")\n",
        "    def predict(self, X):\n",
        "        # Predict function to get class probabilities\n",
        "        output = self.forward(X)\n",
        "        # Convert probabilities to class labels (using argmax)\n",
        "        predictions = np.argmax(output, axis=1)\n",
        "        return predictions\n",
        "\n",
        "    def accuracy(self, X, y):\n",
        "        # Calculate accuracy of the model\n",
        "        predictions = self.predict(X)\n",
        "        true_labels = np.argmax(y, axis=1)\n",
        "        accuracy = np.mean(predictions == true_labels)\n",
        "        return accuracy\n",
        "\n",
        "# Split the data into training and testing sets\n",
        "X_train, X_test, y_train, y_test = train_test_split(X, y, test_size=0.2, random_state=42)\n",
        "\n",
        "# Define the neural network architecture\n",
        "input_size = X.shape[1]\n",
        "hidden_size = 10\n",
        "output_size = y.shape[1]\n",
        "\n",
        "# Initialize and train the neural network\n",
        "nn = NeuralNetwork(input_size, hidden_size, output_size)\n",
        "nn.train(X_train, y_train, epochs=1000, learning_rate=0.01)\n"
      ],
      "metadata": {
        "colab": {
          "base_uri": "https://localhost:8080/"
        },
        "id": "lUVinq6NcZqI",
        "outputId": "34fede07-55a7-488e-d868-5b084f8bc26e"
      },
      "execution_count": 15,
      "outputs": [
        {
          "output_type": "stream",
          "name": "stdout",
          "text": [
            "Epoch 0: Loss = 0.4038\n",
            "Epoch 100: Loss = 0.0895\n",
            "Epoch 200: Loss = 0.0670\n",
            "Epoch 300: Loss = 0.0364\n",
            "Epoch 400: Loss = 0.0245\n",
            "Epoch 500: Loss = 0.0204\n",
            "Epoch 600: Loss = 0.0183\n",
            "Epoch 700: Loss = 0.0170\n",
            "Epoch 800: Loss = 0.0160\n",
            "Epoch 900: Loss = 0.0153\n"
          ]
        }
      ]
    },
    {
      "cell_type": "code",
      "source": [
        "test_accuracy = nn.accuracy(X_test, y_test)\n",
        "print(f\"Test Accuracy: {test_accuracy * 100:.2f}%\")"
      ],
      "metadata": {
        "colab": {
          "base_uri": "https://localhost:8080/"
        },
        "id": "wzJ4pbpQctt2",
        "outputId": "02677975-8fde-4e57-afce-7081f46bc7c1"
      },
      "execution_count": 16,
      "outputs": [
        {
          "output_type": "stream",
          "name": "stdout",
          "text": [
            "Test Accuracy: 100.00%\n"
          ]
        }
      ]
    },
    {
      "cell_type": "code",
      "source": [],
      "metadata": {
        "id": "5u009WpwcYhM"
      },
      "execution_count": 16,
      "outputs": []
    }
  ]
}
{
  "nbformat": 4,
  "nbformat_minor": 0,
  "metadata": {
    "colab": {
      "provenance": [],
      "authorship_tag": "ABX9TyM2S2k8Rj77OVeWUeAjYWod",
      "include_colab_link": true
    },
    "kernelspec": {
      "name": "python3",
      "display_name": "Python 3"
    },
    "language_info": {
      "name": "python"
    }
  },
  "cells": [
    {
      "cell_type": "markdown",
      "metadata": {
        "id": "view-in-github",
        "colab_type": "text"
      },
      "source": [
        "<a href=\"https://colab.research.google.com/github/DivyaDharshini2293/Deep-Learning/blob/main/BYTS_Keras_VS_Pytorch.ipynb\" target=\"_parent\"><img src=\"https://colab.research.google.com/assets/colab-badge.svg\" alt=\"Open In Colab\"/></a>"
      ]
    },
    {
      "cell_type": "code",
      "execution_count": 19,
      "metadata": {
        "id": "wy_7x95604DQ"
      },
      "outputs": [],
      "source": [
        "import torch\n",
        "import torch.nn as nn\n",
        "import torch.optim as optim\n",
        "import torchvision.transforms as transforms\n",
        "from torchvision.datasets import MNIST\n",
        "import tensorflow as tf\n",
        "from  torch.utils.data import DataLoader\n",
        "from tensorflow.keras import layers,models\n",
        "from tensorflow.keras.datasets import mnist\n",
        "from tensorflow.keras.utils import to_categorical"
      ]
    },
    {
      "cell_type": "code",
      "source": [
        "transform=transforms.Compose([transforms.ToTensor(),transforms.Normalize((0.5,),(0.5,))])\n",
        "train_dataset=MNIST(root=\"./data\",train=True,download=True,transform=transform)\n",
        "test_dataset=MNIST(root=\"./data\",train=False,download=True,transform=transform)"
      ],
      "metadata": {
        "id": "Gl--V5YW16PN"
      },
      "execution_count": 20,
      "outputs": []
    },
    {
      "cell_type": "code",
      "source": [
        "train_loader=DataLoader(dataset=train_dataset,batch_size=64,shuffle=True)\n",
        "test_loader=DataLoader(dataset=test_dataset,batch_size=64,shuffle=False)"
      ],
      "metadata": {
        "id": "KBVIIMZr2stA"
      },
      "execution_count": 21,
      "outputs": []
    },
    {
      "cell_type": "code",
      "source": [
        "(train_images,train_labels),(test_images,test_labels)=mnist.load_data()"
      ],
      "metadata": {
        "id": "2RjGWIIq3FIi"
      },
      "execution_count": 22,
      "outputs": []
    },
    {
      "cell_type": "code",
      "source": [
        "train_images = train_images.reshape((60000, 28, 28, 1)).astype('float32') / 255\n",
        "test_images = test_images.reshape((10000, 28, 28, 1)).astype('float32') / 255"
      ],
      "metadata": {
        "id": "ygsp0OnY3f1J"
      },
      "execution_count": 23,
      "outputs": []
    },
    {
      "cell_type": "code",
      "source": [
        "train_labels = to_categorical(train_labels)\n",
        "test_labels = to_categorical(test_labels)"
      ],
      "metadata": {
        "id": "e1uYE4px3QsJ"
      },
      "execution_count": 24,
      "outputs": []
    },
    {
      "cell_type": "code",
      "source": [],
      "metadata": {
        "id": "bPl01lET7EpH"
      },
      "execution_count": null,
      "outputs": []
    },
    {
      "cell_type": "code",
      "source": [
        "class Net(nn.Module):\n",
        "  def __init__(self):\n",
        "    super(Net,self).__init__()\n",
        "    self.flatten=nn.Flatten()\n",
        "    self.fc1=nn.Linear(28*28,128)\n",
        "    self.relu=nn.ReLU()\n",
        "    self.fc2=nn.Linear(128,10)\n",
        "    self.softmax=nn.Softmax(dim=1)\n",
        "  def forward(self,x):\n",
        "    x=self.flatten(x)\n",
        "    x=self.fc1(x)\n",
        "    x=self.relu(x)\n",
        "    x=self.fc2(x)\n",
        "    x=self.softmax(x)\n",
        "    return x"
      ],
      "metadata": {
        "id": "jWRo9IhW31Qo"
      },
      "execution_count": 25,
      "outputs": []
    },
    {
      "cell_type": "code",
      "source": [
        "model_pt=Net()\n",
        "criterion=nn.CrossEntropyLoss()\n",
        "optimizer_pt=optim.Adam(model_pt.parameters(),lr=0.001)\n"
      ],
      "metadata": {
        "id": "1u41UvJx4w8o"
      },
      "execution_count": 26,
      "outputs": []
    },
    {
      "cell_type": "code",
      "source": [
        "import time\n",
        "start_time=time.time()\n",
        "model_tf=models.Sequential()\n",
        "model_tf.add(layers.Flatten(input_shape=(28,28,1)))\n",
        "model_tf.add(layers.Dense(128,activation='relu'))\n",
        "model_tf.add(layers.Dense(10,activation='softmax'))"
      ],
      "metadata": {
        "id": "DD8BH3-R5Fhs"
      },
      "execution_count": 27,
      "outputs": []
    },
    {
      "cell_type": "code",
      "source": [
        "model_tf.compile(optimizer=\"adam\",loss=\"categorical_crossentropy\",metrics=['accuracy'])"
      ],
      "metadata": {
        "id": "V0wg77RH5KmV"
      },
      "execution_count": 28,
      "outputs": []
    },
    {
      "cell_type": "code",
      "source": [
        "model_tf.fit(train_images,train_labels, epochs=5, batch_size=64, validation_split=0.2)\n",
        "end_time=time.time()"
      ],
      "metadata": {
        "colab": {
          "base_uri": "https://localhost:8080/"
        },
        "id": "XH30QguE6BLq",
        "outputId": "b932c0f6-e719-4ffc-90d6-e06191a7cb49"
      },
      "execution_count": 29,
      "outputs": [
        {
          "output_type": "stream",
          "name": "stdout",
          "text": [
            "Epoch 1/5\n",
            "750/750 [==============================] - 4s 5ms/step - loss: 0.3291 - accuracy: 0.9079 - val_loss: 0.1748 - val_accuracy: 0.9508\n",
            "Epoch 2/5\n",
            "750/750 [==============================] - 4s 5ms/step - loss: 0.1542 - accuracy: 0.9558 - val_loss: 0.1360 - val_accuracy: 0.9607\n",
            "Epoch 3/5\n",
            "750/750 [==============================] - 4s 6ms/step - loss: 0.1095 - accuracy: 0.9682 - val_loss: 0.1082 - val_accuracy: 0.9685\n",
            "Epoch 4/5\n",
            "750/750 [==============================] - 4s 5ms/step - loss: 0.0829 - accuracy: 0.9759 - val_loss: 0.1013 - val_accuracy: 0.9701\n",
            "Epoch 5/5\n",
            "750/750 [==============================] - 3s 4ms/step - loss: 0.0665 - accuracy: 0.9808 - val_loss: 0.1001 - val_accuracy: 0.9708\n"
          ]
        }
      ]
    },
    {
      "cell_type": "code",
      "source": [
        "print(f\"Tensorflow Training Time: {end_time -start_time} seconds\")"
      ],
      "metadata": {
        "colab": {
          "base_uri": "https://localhost:8080/"
        },
        "id": "jfRDCbVl7FpE",
        "outputId": "d6e8721b-3032-4389-8cec-928cca553fd3"
      },
      "execution_count": 30,
      "outputs": [
        {
          "output_type": "stream",
          "name": "stdout",
          "text": [
            "Tensorflow Training Time: 21.77545976638794 seconds\n"
          ]
        }
      ]
    },
    {
      "cell_type": "code",
      "source": [
        "start_time_p=time.time()\n",
        "for epoch in range(5):\n",
        "  for images, labels in train_loader:\n",
        "    optimizer_pt.zero_grad()\n",
        "    outputs=model_pt(images.view(-1,28*28))\n",
        "    loss=criterion(outputs,labels)\n",
        "    loss.backward()\n",
        "    optimizer_pt.step()\n",
        "end_time_p=time.time()\n",
        "print(f\"pytorch training time : {end_time_p -start_time_p} seconds\")\n"
      ],
      "metadata": {
        "colab": {
          "base_uri": "https://localhost:8080/"
        },
        "id": "82vRMXDF6Uky",
        "outputId": "8e7b9fac-2994-4a9d-bc95-02395c17e8d9"
      },
      "execution_count": 31,
      "outputs": [
        {
          "output_type": "stream",
          "name": "stdout",
          "text": [
            "pytorch training time : 100.40101957321167 seconds\n"
          ]
        }
      ]
    },
    {
      "cell_type": "code",
      "source": [
        "test_loss_tf,test_acc_tf=model_tf.evaluate(test_images,test_labels)\n",
        "print(f\"Accuracy of Tensorflow :{test_acc_tf}\")"
      ],
      "metadata": {
        "colab": {
          "base_uri": "https://localhost:8080/"
        },
        "id": "jGa426Bo8UMv",
        "outputId": "61d1d4d1-8593-4201-d2ad-5fd90236e89e"
      },
      "execution_count": 32,
      "outputs": [
        {
          "output_type": "stream",
          "name": "stdout",
          "text": [
            "313/313 [==============================] - 1s 2ms/step - loss: 0.0979 - accuracy: 0.9703\n",
            "Accuracy of Tensorflow :0.970300018787384\n"
          ]
        }
      ]
    },
    {
      "cell_type": "code",
      "source": [
        "correct=0\n",
        "total=0\n",
        "with torch.no_grad():\n",
        "  for images, labels in test_loader:\n",
        "    outputs=model_pt(images.view(-1,28*28))\n",
        "    _,predicted=torch.max(outputs.data,1)\n",
        "    total+=labels.size(0)\n",
        "    correct+=(predicted == labels).sum().item()\n",
        "accuracy_pt=correct/total\n",
        "print(f\"Accuracy of PyTorch {accuracy_pt}\")"
      ],
      "metadata": {
        "colab": {
          "base_uri": "https://localhost:8080/"
        },
        "id": "MlxLpVX-8lha",
        "outputId": "ca49d045-d929-42d4-ee00-e7e3b04f6700"
      },
      "execution_count": 33,
      "outputs": [
        {
          "output_type": "stream",
          "name": "stdout",
          "text": [
            "Accuracy of PyTorch 0.9528\n"
          ]
        }
      ]
    },
    {
      "cell_type": "code",
      "source": [],
      "metadata": {
        "id": "ikz0zE2I9WLe"
      },
      "execution_count": null,
      "outputs": []
    }
  ]
}
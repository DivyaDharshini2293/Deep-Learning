{
  "nbformat": 4,
  "nbformat_minor": 0,
  "metadata": {
    "colab": {
      "provenance": [],
      "authorship_tag": "ABX9TyMRT6XxB2yypeCtuTlLNd+n",
      "include_colab_link": true
    },
    "kernelspec": {
      "name": "python3",
      "display_name": "Python 3"
    },
    "language_info": {
      "name": "python"
    }
  },
  "cells": [
    {
      "cell_type": "markdown",
      "metadata": {
        "id": "view-in-github",
        "colab_type": "text"
      },
      "source": [
        "<a href=\"https://colab.research.google.com/github/DivyaDharshini2293/Deep-Learning/blob/main/MNIST.ipynb\" target=\"_parent\"><img src=\"https://colab.research.google.com/assets/colab-badge.svg\" alt=\"Open In Colab\"/></a>"
      ]
    },
    {
      "cell_type": "code",
      "execution_count": null,
      "metadata": {
        "colab": {
          "base_uri": "https://localhost:8080/"
        },
        "id": "bdbHgWmdoM8B",
        "outputId": "9f0adf13-919c-401b-90ed-81bde29745e8"
      },
      "outputs": [
        {
          "output_type": "stream",
          "name": "stdout",
          "text": [
            "2.15.0\n"
          ]
        }
      ],
      "source": [
        "import tensorflow as tf\n",
        "print(tf.__version__)"
      ]
    },
    {
      "cell_type": "code",
      "source": [
        "(x_train,y_train),(x_test,y_test)=tf.keras.datasets.mnist.load_data()"
      ],
      "metadata": {
        "id": "wDG8TzKDohFl"
      },
      "execution_count": null,
      "outputs": []
    },
    {
      "cell_type": "code",
      "source": [
        "x_train,x_test=x_train/255.0,x_test/255.0"
      ],
      "metadata": {
        "id": "JYCF-w2EpjE7"
      },
      "execution_count": null,
      "outputs": []
    },
    {
      "cell_type": "code",
      "source": [],
      "metadata": {
        "id": "TrJH-5Scpz57"
      },
      "execution_count": null,
      "outputs": []
    },
    {
      "cell_type": "code",
      "source": [
        "model = tf.keras.models.Sequential()\n",
        "model.add(tf.keras.layers.Flatten(input_shape=(28,28)))#782 neurons\n",
        "model.add(tf.keras.layers.Dense(128,activation='relu'))\n",
        "model.add(tf.keras.layers.Dense(32,activation='relu'))\n",
        "model.add(tf.keras.layers.Dense(10,activation='softmax'))"
      ],
      "metadata": {
        "id": "BlNDCo4ysewg"
      },
      "execution_count": null,
      "outputs": []
    },
    {
      "cell_type": "code",
      "source": [
        "model.compile(optimizer=\"adam\",loss=\"sparse_categorical_crossentropy\",metrics=['accuracy'])"
      ],
      "metadata": {
        "id": "2mZI69Hgp-wk"
      },
      "execution_count": null,
      "outputs": []
    },
    {
      "cell_type": "code",
      "source": [
        "model.fit(x_train,y_train,epochs=20,validation_split=0.2)"
      ],
      "metadata": {
        "colab": {
          "base_uri": "https://localhost:8080/"
        },
        "id": "-vxYc5WEqNKM",
        "outputId": "19a7562d-766b-46b9-aba6-1688360497a6"
      },
      "execution_count": null,
      "outputs": [
        {
          "output_type": "stream",
          "name": "stdout",
          "text": [
            "Epoch 1/20\n",
            "1500/1500 [==============================] - 7s 4ms/step - loss: 0.2832 - accuracy: 0.9184 - val_loss: 0.1526 - val_accuracy: 0.9545\n",
            "Epoch 2/20\n",
            "1500/1500 [==============================] - 7s 5ms/step - loss: 0.1206 - accuracy: 0.9639 - val_loss: 0.1248 - val_accuracy: 0.9606\n",
            "Epoch 3/20\n",
            "1500/1500 [==============================] - 6s 4ms/step - loss: 0.0827 - accuracy: 0.9745 - val_loss: 0.0992 - val_accuracy: 0.9697\n",
            "Epoch 4/20\n",
            "1500/1500 [==============================] - 7s 5ms/step - loss: 0.0617 - accuracy: 0.9814 - val_loss: 0.1013 - val_accuracy: 0.9699\n",
            "Epoch 5/20\n",
            "1500/1500 [==============================] - 6s 4ms/step - loss: 0.0479 - accuracy: 0.9844 - val_loss: 0.0991 - val_accuracy: 0.9723\n",
            "Epoch 6/20\n",
            "1500/1500 [==============================] - 7s 5ms/step - loss: 0.0358 - accuracy: 0.9882 - val_loss: 0.1020 - val_accuracy: 0.9712\n",
            "Epoch 7/20\n",
            "1500/1500 [==============================] - 6s 4ms/step - loss: 0.0312 - accuracy: 0.9904 - val_loss: 0.0972 - val_accuracy: 0.9732\n",
            "Epoch 8/20\n",
            "1500/1500 [==============================] - 7s 5ms/step - loss: 0.0264 - accuracy: 0.9912 - val_loss: 0.1003 - val_accuracy: 0.9741\n",
            "Epoch 9/20\n",
            "1500/1500 [==============================] - 6s 4ms/step - loss: 0.0213 - accuracy: 0.9930 - val_loss: 0.1107 - val_accuracy: 0.9724\n",
            "Epoch 10/20\n",
            "1500/1500 [==============================] - 7s 5ms/step - loss: 0.0198 - accuracy: 0.9936 - val_loss: 0.1137 - val_accuracy: 0.9730\n",
            "Epoch 11/20\n",
            "1500/1500 [==============================] - 6s 4ms/step - loss: 0.0169 - accuracy: 0.9941 - val_loss: 0.1113 - val_accuracy: 0.9729\n",
            "Epoch 12/20\n",
            "1500/1500 [==============================] - 8s 5ms/step - loss: 0.0133 - accuracy: 0.9959 - val_loss: 0.1153 - val_accuracy: 0.9743\n",
            "Epoch 13/20\n",
            "1500/1500 [==============================] - 6s 4ms/step - loss: 0.0128 - accuracy: 0.9958 - val_loss: 0.1187 - val_accuracy: 0.9747\n",
            "Epoch 14/20\n",
            "1500/1500 [==============================] - 7s 5ms/step - loss: 0.0125 - accuracy: 0.9960 - val_loss: 0.1399 - val_accuracy: 0.9716\n",
            "Epoch 15/20\n",
            "1500/1500 [==============================] - 6s 4ms/step - loss: 0.0112 - accuracy: 0.9963 - val_loss: 0.1324 - val_accuracy: 0.9742\n",
            "Epoch 16/20\n",
            "1500/1500 [==============================] - 8s 5ms/step - loss: 0.0142 - accuracy: 0.9953 - val_loss: 0.1306 - val_accuracy: 0.9755\n",
            "Epoch 17/20\n",
            "1500/1500 [==============================] - 6s 4ms/step - loss: 0.0115 - accuracy: 0.9963 - val_loss: 0.1505 - val_accuracy: 0.9703\n",
            "Epoch 18/20\n",
            "1500/1500 [==============================] - 8s 5ms/step - loss: 0.0079 - accuracy: 0.9973 - val_loss: 0.1374 - val_accuracy: 0.9740\n",
            "Epoch 19/20\n",
            "1500/1500 [==============================] - 6s 4ms/step - loss: 0.0108 - accuracy: 0.9964 - val_loss: 0.1436 - val_accuracy: 0.9758\n",
            "Epoch 20/20\n",
            "1500/1500 [==============================] - 7s 5ms/step - loss: 0.0068 - accuracy: 0.9977 - val_loss: 0.1365 - val_accuracy: 0.9775\n"
          ]
        },
        {
          "output_type": "execute_result",
          "data": {
            "text/plain": [
              "<keras.src.callbacks.History at 0x7906f07deec0>"
            ]
          },
          "metadata": {},
          "execution_count": 26
        }
      ]
    },
    {
      "cell_type": "code",
      "source": [
        "y_prob = model.predict(x_test)\n",
        "y_pred = y_prob.argmax(axis=1)"
      ],
      "metadata": {
        "colab": {
          "base_uri": "https://localhost:8080/"
        },
        "id": "imIcF72erU_Y",
        "outputId": "e4f92aab-7d84-4ccf-961d-0a53cb53d8f0"
      },
      "execution_count": null,
      "outputs": [
        {
          "output_type": "stream",
          "name": "stdout",
          "text": [
            "313/313 [==============================] - 1s 2ms/step\n"
          ]
        }
      ]
    },
    {
      "cell_type": "code",
      "source": [
        "from sklearn.metrics import accuracy_score\n",
        "accuracy_score(y_test,y_pred)"
      ],
      "metadata": {
        "colab": {
          "base_uri": "https://localhost:8080/"
        },
        "id": "RjUoIRyxrqlE",
        "outputId": "0020c1fe-b477-4ecd-cd27-5bb1c8be87bf"
      },
      "execution_count": null,
      "outputs": [
        {
          "output_type": "execute_result",
          "data": {
            "text/plain": [
              "0.9805"
            ]
          },
          "metadata": {},
          "execution_count": 28
        }
      ]
    },
    {
      "cell_type": "code",
      "source": [],
      "metadata": {
        "id": "DwTsdwRFsVA2"
      },
      "execution_count": null,
      "outputs": []
    }
  ]
}
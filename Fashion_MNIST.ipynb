{
  "nbformat": 4,
  "nbformat_minor": 0,
  "metadata": {
    "colab": {
      "provenance": [],
      "authorship_tag": "ABX9TyPFedvjTfqi6ETfrb3oprLQ",
      "include_colab_link": true
    },
    "kernelspec": {
      "name": "python3",
      "display_name": "Python 3"
    },
    "language_info": {
      "name": "python"
    }
  },
  "cells": [
    {
      "cell_type": "markdown",
      "metadata": {
        "id": "view-in-github",
        "colab_type": "text"
      },
      "source": [
        "<a href=\"https://colab.research.google.com/github/DivyaDharshini2293/Deep-Learning/blob/main/Fashion_MNIST.ipynb\" target=\"_parent\"><img src=\"https://colab.research.google.com/assets/colab-badge.svg\" alt=\"Open In Colab\"/></a>"
      ]
    },
    {
      "cell_type": "code",
      "source": [
        "import tensorflow as tf\n",
        "print(tf.__version__)"
      ],
      "metadata": {
        "colab": {
          "base_uri": "https://localhost:8080/"
        },
        "id": "uWn8KfpTto06",
        "outputId": "6bde32d7-a499-4554-8fa3-30ad1a8651d9"
      },
      "execution_count": null,
      "outputs": [
        {
          "output_type": "stream",
          "name": "stdout",
          "text": [
            "2.15.0\n"
          ]
        }
      ]
    },
    {
      "cell_type": "code",
      "source": [
        "(x_train,y_train),(x_test,y_test)=tf.keras.datasets.fashion_mnist.load_data()"
      ],
      "metadata": {
        "colab": {
          "base_uri": "https://localhost:8080/"
        },
        "id": "stJzNz-ftwgU",
        "outputId": "1debbc22-3f7c-4e14-f667-fff3b7181388"
      },
      "execution_count": null,
      "outputs": [
        {
          "output_type": "stream",
          "name": "stdout",
          "text": [
            "Downloading data from https://storage.googleapis.com/tensorflow/tf-keras-datasets/train-labels-idx1-ubyte.gz\n",
            "29515/29515 [==============================] - 0s 1us/step\n",
            "Downloading data from https://storage.googleapis.com/tensorflow/tf-keras-datasets/train-images-idx3-ubyte.gz\n",
            "26421880/26421880 [==============================] - 2s 0us/step\n",
            "Downloading data from https://storage.googleapis.com/tensorflow/tf-keras-datasets/t10k-labels-idx1-ubyte.gz\n",
            "5148/5148 [==============================] - 0s 0us/step\n",
            "Downloading data from https://storage.googleapis.com/tensorflow/tf-keras-datasets/t10k-images-idx3-ubyte.gz\n",
            "4422102/4422102 [==============================] - 1s 0us/step\n"
          ]
        }
      ]
    },
    {
      "cell_type": "code",
      "source": [
        "x_train,x_test=x_train/255.0,x_test/255.0"
      ],
      "metadata": {
        "id": "b1lLsFvJt9_Z"
      },
      "execution_count": null,
      "outputs": []
    },
    {
      "cell_type": "code",
      "source": [
        "model = tf.keras.models.Sequential()\n",
        "model.add(tf.keras.layers.Flatten(input_shape=(28,28)))#782 neurons\n",
        "model.add(tf.keras.layers.Dense(128,activation='relu'))\n",
        "model.add(tf.keras.layers.Dense(32,activation='relu'))\n",
        "model.add(tf.keras.layers.Dense(10,activation='softmax'))"
      ],
      "metadata": {
        "id": "RqtTy3_PujFr"
      },
      "execution_count": null,
      "outputs": []
    },
    {
      "cell_type": "code",
      "source": [
        "model.compile(optimizer=\"adam\",loss=\"sparse_categorical_crossentropy\",metrics=['accuracy'])"
      ],
      "metadata": {
        "id": "ovuwHJHIuk9a"
      },
      "execution_count": null,
      "outputs": []
    },
    {
      "cell_type": "code",
      "source": [
        "model.fit(x_train,y_train,epochs=20,validation_split=0.2)"
      ],
      "metadata": {
        "colab": {
          "base_uri": "https://localhost:8080/"
        },
        "id": "h15oSC_Sulfd",
        "outputId": "d57a7815-13ba-4eb2-d5dc-ee3a5b088389"
      },
      "execution_count": null,
      "outputs": [
        {
          "output_type": "stream",
          "name": "stdout",
          "text": [
            "Epoch 1/20\n",
            "1500/1500 [==============================] - 9s 5ms/step - loss: 0.5282 - accuracy: 0.8159 - val_loss: 0.4589 - val_accuracy: 0.8348\n",
            "Epoch 2/20\n",
            "1500/1500 [==============================] - 9s 6ms/step - loss: 0.3863 - accuracy: 0.8609 - val_loss: 0.3624 - val_accuracy: 0.8656\n",
            "Epoch 3/20\n",
            "1500/1500 [==============================] - 16s 11ms/step - loss: 0.3448 - accuracy: 0.8740 - val_loss: 0.3800 - val_accuracy: 0.8647\n",
            "Epoch 4/20\n",
            "1500/1500 [==============================] - 9s 6ms/step - loss: 0.3207 - accuracy: 0.8827 - val_loss: 0.3430 - val_accuracy: 0.8758\n",
            "Epoch 5/20\n",
            "1500/1500 [==============================] - 8s 5ms/step - loss: 0.3033 - accuracy: 0.8867 - val_loss: 0.3234 - val_accuracy: 0.8848\n",
            "Epoch 6/20\n",
            "1500/1500 [==============================] - 8s 5ms/step - loss: 0.2863 - accuracy: 0.8951 - val_loss: 0.3506 - val_accuracy: 0.8787\n",
            "Epoch 7/20\n",
            "1500/1500 [==============================] - 9s 6ms/step - loss: 0.2766 - accuracy: 0.8986 - val_loss: 0.3273 - val_accuracy: 0.8846\n",
            "Epoch 8/20\n",
            "1500/1500 [==============================] - 7s 5ms/step - loss: 0.2652 - accuracy: 0.9007 - val_loss: 0.3885 - val_accuracy: 0.8549\n",
            "Epoch 9/20\n",
            "1500/1500 [==============================] - 10s 7ms/step - loss: 0.2556 - accuracy: 0.9055 - val_loss: 0.3304 - val_accuracy: 0.8817\n",
            "Epoch 10/20\n",
            "1500/1500 [==============================] - 9s 6ms/step - loss: 0.2456 - accuracy: 0.9070 - val_loss: 0.3212 - val_accuracy: 0.8889\n",
            "Epoch 11/20\n",
            "1500/1500 [==============================] - 8s 5ms/step - loss: 0.2366 - accuracy: 0.9130 - val_loss: 0.3188 - val_accuracy: 0.8898\n",
            "Epoch 12/20\n",
            "1500/1500 [==============================] - 11s 7ms/step - loss: 0.2297 - accuracy: 0.9136 - val_loss: 0.3382 - val_accuracy: 0.8826\n",
            "Epoch 13/20\n",
            "1500/1500 [==============================] - 9s 6ms/step - loss: 0.2244 - accuracy: 0.9154 - val_loss: 0.3323 - val_accuracy: 0.8889\n",
            "Epoch 14/20\n",
            "1500/1500 [==============================] - 8s 5ms/step - loss: 0.2139 - accuracy: 0.9202 - val_loss: 0.3239 - val_accuracy: 0.8909\n",
            "Epoch 15/20\n",
            "1500/1500 [==============================] - 10s 6ms/step - loss: 0.2078 - accuracy: 0.9215 - val_loss: 0.3253 - val_accuracy: 0.8930\n",
            "Epoch 16/20\n",
            "1500/1500 [==============================] - 8s 5ms/step - loss: 0.2041 - accuracy: 0.9228 - val_loss: 0.3336 - val_accuracy: 0.8901\n",
            "Epoch 17/20\n",
            "1500/1500 [==============================] - 7s 5ms/step - loss: 0.1972 - accuracy: 0.9250 - val_loss: 0.3235 - val_accuracy: 0.8953\n",
            "Epoch 18/20\n",
            "1500/1500 [==============================] - 8s 6ms/step - loss: 0.1926 - accuracy: 0.9272 - val_loss: 0.3373 - val_accuracy: 0.8916\n",
            "Epoch 19/20\n",
            "1500/1500 [==============================] - 8s 5ms/step - loss: 0.1871 - accuracy: 0.9295 - val_loss: 0.3423 - val_accuracy: 0.8933\n",
            "Epoch 20/20\n",
            "1500/1500 [==============================] - 9s 6ms/step - loss: 0.1800 - accuracy: 0.9323 - val_loss: 0.3591 - val_accuracy: 0.8947\n"
          ]
        },
        {
          "output_type": "execute_result",
          "data": {
            "text/plain": [
              "<keras.src.callbacks.History at 0x78d5c13e32b0>"
            ]
          },
          "metadata": {},
          "execution_count": 9
        }
      ]
    },
    {
      "cell_type": "code",
      "source": [
        "y_prob = model.predict(x_test)\n",
        "y_pred = y_prob.argmax(axis=1)"
      ],
      "metadata": {
        "colab": {
          "base_uri": "https://localhost:8080/"
        },
        "id": "0fRuUzx5uppI",
        "outputId": "5ae7542d-6a13-4557-f9de-2d3fe120ec7c"
      },
      "execution_count": null,
      "outputs": [
        {
          "output_type": "stream",
          "name": "stdout",
          "text": [
            "313/313 [==============================] - 1s 2ms/step\n"
          ]
        }
      ]
    },
    {
      "cell_type": "code",
      "source": [
        "from sklearn.metrics import accuracy_score\n",
        "accuracy_score(y_test,y_pred)"
      ],
      "metadata": {
        "colab": {
          "base_uri": "https://localhost:8080/"
        },
        "id": "pBH05zuYuqE4",
        "outputId": "92d80a24-4af4-471b-c50e-32e1e60824d5"
      },
      "execution_count": null,
      "outputs": [
        {
          "output_type": "execute_result",
          "data": {
            "text/plain": [
              "0.8862"
            ]
          },
          "metadata": {},
          "execution_count": 11
        }
      ]
    },
    {
      "cell_type": "code",
      "source": [
        "import matplotlib.pyplot as plt\n",
        "plt.imshow(x_test[1])\n",
        "model.predict(x_test[1].reshape(1,28,28)).argmax(axis=1)"
      ],
      "metadata": {
        "colab": {
          "base_uri": "https://localhost:8080/",
          "height": 465
        },
        "id": "4YiTC0bavfFt",
        "outputId": "76a93051-849e-48d8-dc62-46086c876cfe"
      },
      "execution_count": null,
      "outputs": [
        {
          "output_type": "stream",
          "name": "stdout",
          "text": [
            "1/1 [==============================] - 0s 40ms/step\n"
          ]
        },
        {
          "output_type": "execute_result",
          "data": {
            "text/plain": [
              "array([2])"
            ]
          },
          "metadata": {},
          "execution_count": 14
        },
        {
          "output_type": "display_data",
          "data": {
            "text/plain": [
              "<Figure size 640x480 with 1 Axes>"
            ],
            "image/png": "[encoded data removed]"
          },
          "metadata": {}
        }
      ]
    },
    {
      "cell_type": "code",
      "source": [
        "import matplotlib.pyplot as plt\n",
        "plt.imshow(x_test[3])\n",
        "model.predict(x_test[3].reshape(1,28,28)).argmax(axis=1)"
      ],
      "metadata": {
        "colab": {
          "base_uri": "https://localhost:8080/",
          "height": 465
        },
        "id": "GkOyzDhwwJm9",
        "outputId": "b67a08a0-66e2-4174-c02a-c27f06ef83df"
      },
      "execution_count": null,
      "outputs": [
        {
          "output_type": "stream",
          "name": "stdout",
          "text": [
            "1/1 [==============================] - 0s 22ms/step\n"
          ]
        },
        {
          "output_type": "execute_result",
          "data": {
            "text/plain": [
              "array([1])"
            ]
          },
          "metadata": {},
          "execution_count": 15
        },
        {
          "output_type": "display_data",
          "data": {
            "text/plain": [
              "<Figure size 640x480 with 1 Axes>"
            ],
            "image/png": "[encoded data removed]"
          },
          "metadata": {}
        }
      ]
    },
    {
      "cell_type": "code",
      "source": [
        "import matplotlib.pyplot as plt\n",
        "plt.imshow(x_test[8])\n",
        "model.predict(x_test[8].reshape(1,28,28)).argmax(axis=1)"
      ],
      "metadata": {
        "colab": {
          "base_uri": "https://localhost:8080/",
          "height": 465
        },
        "id": "Qt4q4ioUweLJ",
        "outputId": "56599603-9d85-4a03-8447-1e14f9534ebc"
      },
      "execution_count": null,
      "outputs": [
        {
          "output_type": "stream",
          "name": "stdout",
          "text": [
            "1/1 [==============================] - 0s 22ms/step\n"
          ]
        },
        {
          "output_type": "execute_result",
          "data": {
            "text/plain": [
              "array([5])"
            ]
          },
          "metadata": {},
          "execution_count": 16
        },
        {
          "output_type": "display_data",
          "data": {
            "text/plain": [
              "<Figure size 640x480 with 1 Axes>"
            ],
            "image/png": "[encoded data removed]"
          },
          "metadata": {}
        }
      ]
    },
    {
      "cell_type": "code",
      "source": [],
      "metadata": {
        "id": "Kox5q59zxUFK"
      },
      "execution_count": null,
      "outputs": []
    }
  ]
}